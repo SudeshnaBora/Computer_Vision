{
 "cells": [
  {
   "cell_type": "markdown",
   "metadata": {},
   "source": [
    "This script is to read the train images from BSDS and create patches and events out of it."
   ]
  },
  {
   "cell_type": "code",
   "execution_count": 1,
   "metadata": {},
   "outputs": [],
   "source": [
    "import cv2\n",
    "import os\n",
    "from sklearn.feature_extraction import image as image_extractor\n",
    "from scipy import ndimage\n",
    "import numpy as np\n",
    "import warnings\n",
    "import time\n",
    "from skimage import io\n",
    "from sklearn.decomposition import MiniBatchDictionaryLearning\n",
    "from sklearn.decomposition import SparseCoder\n",
    "import matplotlib.pyplot as plt\n",
    "warnings.filterwarnings('ignore')"
   ]
  },
  {
   "cell_type": "code",
   "execution_count": 2,
   "metadata": {},
   "outputs": [],
   "source": [
    "images = []\n",
    "images_xgradient = []\n",
    "images_ygradient = []\n",
    "folder = \"train/\"\n",
    "width = 240\n",
    "height = 180\n",
    "for filename in os.listdir(folder):\n",
    "    img = cv2.imread(os.path.join(folder,filename),0)\n",
    "    if img is not None:\n",
    "        img = cv2.resize(img,(width,height))\n",
    "        img_xgradient = ndimage.sobel(img, axis=0).astype('float32')\n",
    "        img_ygradient = ndimage.sobel(img, axis=1).astype('float32')\n",
    "        \n",
    "        images.append(img.astype('float32'))\n",
    "        images_xgradient.append(img_xgradient)\n",
    "        images_ygradient.append(img_ygradient)"
   ]
  },
  {
   "cell_type": "code",
   "execution_count": 3,
   "metadata": {},
   "outputs": [
    {
     "data": {
      "text/plain": [
       "200"
      ]
     },
     "execution_count": 3,
     "metadata": {},
     "output_type": "execute_result"
    }
   ],
   "source": [
    "num_images = len(images)\n",
    "num_images"
   ]
  },
  {
   "cell_type": "code",
   "execution_count": 4,
   "metadata": {},
   "outputs": [
    {
     "data": {
      "text/plain": [
       "(180, 240)"
      ]
     },
     "execution_count": 4,
     "metadata": {},
     "output_type": "execute_result"
    }
   ],
   "source": [
    "images[0].shape"
   ]
  },
  {
   "cell_type": "code",
   "execution_count": 5,
   "metadata": {},
   "outputs": [
    {
     "data": {
      "text/plain": [
       "500"
      ]
     },
     "execution_count": 5,
     "metadata": {},
     "output_type": "execute_result"
    }
   ],
   "source": [
    "num_patches = 100000\n",
    "patches_per_image = int(num_patches/num_images)\n",
    "patches_per_image"
   ]
  },
  {
   "cell_type": "markdown",
   "metadata": {},
   "source": [
    "Extracting patches from the images"
   ]
  },
  {
   "cell_type": "code",
   "execution_count": 6,
   "metadata": {},
   "outputs": [],
   "source": [
    "image_patches_x = []\n",
    "image_patches_y = []\n",
    "# total_data = np.zeros((num_patches,2*patch_size[0]*patch_size[1] + 2*patch_size[0]*patch_size[1]*num_frame))\n",
    "C_scale = 100.\n",
    "patch_size = (5,5)\n",
    "num_frame = 5"
   ]
  },
  {
   "cell_type": "code",
   "execution_count": 7,
   "metadata": {},
   "outputs": [
    {
     "data": {
      "text/plain": [
       "(50, 100000)"
      ]
     },
     "execution_count": 7,
     "metadata": {},
     "output_type": "execute_result"
    }
   ],
   "source": [
    "x_input = []\n",
    "y_input = []\n",
    "for index, (x_grad,y_grad) in enumerate(zip(images_xgradient,images_ygradient)):\n",
    "    x_patches = image_extractor.extract_patches_2d(x_grad, patch_size, patches_per_image)\n",
    "    x_patches = x_patches.reshape(x_patches.shape[0],(x_patches.shape[1]*x_patches.shape[2])).T\n",
    "    #x_input.append(x_patches.T)\n",
    "    \n",
    "    if index == 0:\n",
    "        input_data_x = x_patches\n",
    "    else:\n",
    "        input_data_x = np.hstack((input_data_x,x_patches))\n",
    "        \n",
    "    \n",
    "    y_patches = image_extractor.extract_patches_2d(y_grad, patch_size, patches_per_image)\n",
    "    y_patches = y_patches.reshape(y_patches.shape[0],(y_patches.shape[1]*y_patches.shape[2])).T\n",
    "    #y_input.append(y_patches.T)\n",
    "\n",
    "    if index == 0:\n",
    "        input_data_y = y_patches\n",
    "    else:\n",
    "        input_data_y = np.hstack((input_data_y,y_patches))\n",
    "        \n",
    "input_data = np.vstack((input_data_x,input_data_y))\n",
    "input_data.shape"
   ]
  },
  {
   "cell_type": "code",
   "execution_count": 8,
   "metadata": {},
   "outputs": [
    {
     "data": {
      "text/plain": [
       "array([[187., 170.,  81., ..., 244.,  21.,   0.],\n",
       "       [218., 217.,  71., ...,  29.,  22., 255.],\n",
       "       [200., 255.,  51., ...,   7.,  30., 252.],\n",
       "       ...,\n",
       "       [ 10.,   8., 247., ...,   6.,   5.,  34.],\n",
       "       [ 21., 238., 251., ...,   6.,   6.,  40.],\n",
       "       [  4.,  48.,   4., ...,   8.,   7., 242.]], dtype=float32)"
      ]
     },
     "execution_count": 8,
     "metadata": {},
     "output_type": "execute_result"
    }
   ],
   "source": [
    "input_data"
   ]
  },
  {
   "cell_type": "code",
   "execution_count": 9,
   "metadata": {},
   "outputs": [
    {
     "data": {
      "text/plain": [
       "False"
      ]
     },
     "execution_count": 9,
     "metadata": {},
     "output_type": "execute_result"
    }
   ],
   "source": [
    "np.isnan(input_data).any()"
   ]
  },
  {
   "cell_type": "markdown",
   "metadata": {},
   "source": [
    "Create function for event creation"
   ]
  },
  {
   "cell_type": "code",
   "execution_count": 10,
   "metadata": {},
   "outputs": [],
   "source": [
    "def event_simulation(threshold, num_frames,pixel_intensity):\n",
    "    r = pixel_intensity\n",
    "    Ep = np.zeros((num_frames))\n",
    "    En = np.zeros((num_frames))\n",
    "    for i in range(num_frames):\n",
    "        if pixel_intensity > r:\n",
    "            Ep[i] = np.floor(np.log((0.001 + pixel_intensity)/r) / np.log(threshold))\n",
    "            r = threshold**Ep[i]*r\n",
    "        else:\n",
    "            En[i] = - np.ceil(np.log((0.001 + pixel_intensity)/r) / np.log(threshold))\n",
    "            r = threshold**En[i]*r\n",
    "    return Ep.T,En.T            "
   ]
  },
  {
   "cell_type": "code",
   "execution_count": 11,
   "metadata": {},
   "outputs": [
    {
     "data": {
      "text/plain": [
       "(100000, 250)"
      ]
     },
     "execution_count": 11,
     "metadata": {},
     "output_type": "execute_result"
    }
   ],
   "source": [
    "threshold = 1.28\n",
    "image_matrix_initialised = False\n",
    "for image in images:\n",
    "    image_patches = image_extractor.extract_patches_2d(image, patch_size, patches_per_image)\n",
    "    \n",
    "    patch_matrix_initialised = False\n",
    "    for patch_num in range(image_patches.shape[0]):\n",
    "        pixel_matrix_initialized = False\n",
    "        for i in range(image_patches.shape[1]):\n",
    "            for j in range(image_patches.shape[2]):\n",
    "                Ep, En = event_simulation(threshold,num_frame,image_patches[patch_num, i, j])\n",
    "                if not pixel_matrix_initialized:\n",
    "                    pixel_event_matrix = Ep\n",
    "                    pixel_event_matrix = np.hstack((pixel_event_matrix,En))\n",
    "                    pixel_matrix_initialized = True\n",
    "                else:\n",
    "                    temp = np.hstack((Ep,En))\n",
    "                    pixel_event_matrix = np.hstack((pixel_event_matrix,temp))\n",
    "        if not patch_matrix_initialised:\n",
    "            patch_event_matrix = pixel_event_matrix\n",
    "            patch_matrix_initialised = True\n",
    "        else:\n",
    "            patch_event_matrix = np.vstack((patch_event_matrix,pixel_event_matrix))\n",
    "            \n",
    "    if not image_matrix_initialised:\n",
    "        event_matrix = patch_event_matrix\n",
    "        image_matrix_initialised = True\n",
    "    else:\n",
    "        event_matrix = np.vstack((event_matrix,patch_event_matrix))\n",
    "        \n",
    "                \n",
    "event_matrix.shape"
   ]
  },
  {
   "cell_type": "code",
   "execution_count": 12,
   "metadata": {},
   "outputs": [
    {
     "data": {
      "text/plain": [
       "False"
      ]
     },
     "execution_count": 12,
     "metadata": {},
     "output_type": "execute_result"
    }
   ],
   "source": [
    "np.isnan(event_matrix).any()"
   ]
  },
  {
   "cell_type": "code",
   "execution_count": 13,
   "metadata": {},
   "outputs": [
    {
     "data": {
      "text/plain": [
       "(300, 100000)"
      ]
     },
     "execution_count": 13,
     "metadata": {},
     "output_type": "execute_result"
    }
   ],
   "source": [
    "data_patches = np.vstack((input_data,event_matrix.T))\n",
    "data_patches.shape\n"
   ]
  },
  {
   "cell_type": "code",
   "execution_count": 14,
   "metadata": {},
   "outputs": [],
   "source": [
    "data_patches = data_patches.astype(np.int32)"
   ]
  },
  {
   "cell_type": "code",
   "execution_count": 15,
   "metadata": {},
   "outputs": [
    {
     "data": {
      "text/plain": [
       "dtype('int32')"
      ]
     },
     "execution_count": 15,
     "metadata": {},
     "output_type": "execute_result"
    }
   ],
   "source": [
    "data_patches.dtype"
   ]
  },
  {
   "cell_type": "code",
   "execution_count": 16,
   "metadata": {},
   "outputs": [
    {
     "data": {
      "text/plain": [
       "array([[187, 170,  81, ..., 244,  21,   0],\n",
       "       [218, 217,  71, ...,  29,  22, 255],\n",
       "       [200, 255,  51, ...,   7,  30, 252],\n",
       "       ...,\n",
       "       [ -1,  -1,  -1, ...,  -1,  -1,  -1],\n",
       "       [  0,   0,   0, ...,   0,   0,   0],\n",
       "       [ -1,  -1,  -1, ...,  -1,  -1,  -1]])"
      ]
     },
     "execution_count": 16,
     "metadata": {},
     "output_type": "execute_result"
    }
   ],
   "source": [
    "data_patches"
   ]
  },
  {
   "cell_type": "code",
   "execution_count": 17,
   "metadata": {},
   "outputs": [],
   "source": [
    "data_patches = data_patches.T"
   ]
  },
  {
   "cell_type": "code",
   "execution_count": 18,
   "metadata": {},
   "outputs": [
    {
     "data": {
      "text/plain": [
       "array([[187, 218, 200, ...,  -1,   0,  -1],\n",
       "       [170, 217, 255, ...,  -1,   0,  -1],\n",
       "       [ 81,  71,  51, ...,  -1,   0,  -1],\n",
       "       ...,\n",
       "       [244,  29,   7, ...,  -1,   0,  -1],\n",
       "       [ 21,  22,  30, ...,  -1,   0,  -1],\n",
       "       [  0, 255, 252, ...,  -1,   0,  -1]])"
      ]
     },
     "execution_count": 18,
     "metadata": {},
     "output_type": "execute_result"
    }
   ],
   "source": [
    "data_patches"
   ]
  },
  {
   "cell_type": "markdown",
   "metadata": {},
   "source": [
    "Learning "
   ]
  },
  {
   "cell_type": "code",
   "execution_count": 19,
   "metadata": {},
   "outputs": [
    {
     "name": "stdout",
     "output_type": "stream",
     "text": [
      "Learning the dictionary...\n"
     ]
    }
   ],
   "source": [
    "n_components = 700\n",
    "print('Learning the dictionary...')\n",
    "dico = MiniBatchDictionaryLearning(n_components=n_components, alpha=1, n_iter=500)\n",
    "\n",
    "\n",
    "\n"
   ]
  },
  {
   "cell_type": "code",
   "execution_count": 20,
   "metadata": {},
   "outputs": [
    {
     "data": {
      "text/plain": [
       "array([[187, 218, 200, ...,  -1,   0,  -1],\n",
       "       [170, 217, 255, ...,  -1,   0,  -1],\n",
       "       [ 81,  71,  51, ...,  -1,   0,  -1],\n",
       "       ...,\n",
       "       [244,  29,   7, ...,  -1,   0,  -1],\n",
       "       [ 21,  22,  30, ...,  -1,   0,  -1],\n",
       "       [  0, 255, 252, ...,  -1,   0,  -1]])"
      ]
     },
     "execution_count": 20,
     "metadata": {},
     "output_type": "execute_result"
    }
   ],
   "source": [
    "data_patches"
   ]
  },
  {
   "cell_type": "code",
   "execution_count": 22,
   "metadata": {},
   "outputs": [
    {
     "data": {
      "text/plain": [
       "False"
      ]
     },
     "execution_count": 22,
     "metadata": {},
     "output_type": "execute_result"
    }
   ],
   "source": [
    "np.isnan(data_patches).any()"
   ]
  },
  {
   "cell_type": "code",
   "execution_count": 23,
   "metadata": {},
   "outputs": [
    {
     "name": "stdout",
     "output_type": "stream",
     "text": [
      "Elapsed time = 710.78s\n",
      "(700, 300)\n"
     ]
    }
   ],
   "source": [
    "# Actual learning\n",
    "start_time = time.time()\n",
    "V = dico.fit(data_patches).components_\n",
    "elapsed_time = time.time() - start_time\n",
    "print('Elapsed time = %.2fs' % elapsed_time)\n",
    "print(V.shape)"
   ]
  },
  {
   "cell_type": "code",
   "execution_count": 24,
   "metadata": {},
   "outputs": [],
   "source": [
    "V_gradients = V[:,:50]\n",
    "V_events = V[:,50:]"
   ]
  },
  {
   "cell_type": "markdown",
   "metadata": {},
   "source": [
    "## Testing"
   ]
  },
  {
   "cell_type": "code",
   "execution_count": 43,
   "metadata": {},
   "outputs": [],
   "source": [
    "image_test = io.imread(\"frame_00000561.png\",as_gray=True).astype('float32')\n",
    "img_test  = cv2.resize(image_test,(width,height))\n",
    "test_xgradient = ndimage.sobel(image_test, axis=0).astype('float32')\n",
    "test_ygradient = ndimage.sobel(image_test, axis=1).astype('float32')\n",
    "assert img_test.shape[0] == height and img_test.shape[1] == width"
   ]
  },
  {
   "cell_type": "code",
   "execution_count": 49,
   "metadata": {},
   "outputs": [
    {
     "data": {
      "text/plain": [
       "(180, 240, 10)"
      ]
     },
     "execution_count": 49,
     "metadata": {},
     "output_type": "execute_result"
    }
   ],
   "source": [
    "threshold = 1.28\n",
    "test_event_matrix = np.zeros((height,width,2*5))\n",
    "for row in range(img_test.shape[0]):\n",
    "    for col in range(img_test.shape[1]):\n",
    "        Ep, En = event_simulation(threshold,num_frame,img_test[i,j])\n",
    "        event_array = np.hstack((Ep,En))\n",
    "        test_event_matrix[row,col,:] = event_array \n",
    "                \n",
    "test_event_matrix.shape"
   ]
  },
  {
   "cell_type": "code",
   "execution_count": 50,
   "metadata": {},
   "outputs": [
    {
     "data": {
      "text/plain": [
       "(41536, 5, 5, 10)"
      ]
     },
     "execution_count": 50,
     "metadata": {},
     "output_type": "execute_result"
    }
   ],
   "source": [
    "test_event_patches = image_extractor.extract_patches_2d(test_event_matrix, patch_size)\n",
    "test_event_patches.shape"
   ]
  },
  {
   "cell_type": "code",
   "execution_count": 52,
   "metadata": {},
   "outputs": [
    {
     "data": {
      "text/plain": [
       "(41536, 250)"
      ]
     },
     "execution_count": 52,
     "metadata": {},
     "output_type": "execute_result"
    }
   ],
   "source": [
    "data_test = test_event_patches.reshape(test_event_patches.shape[0], -1)\n",
    "data_test.shape"
   ]
  },
  {
   "cell_type": "code",
   "execution_count": 55,
   "metadata": {},
   "outputs": [],
   "source": [
    "n_coefs = 3\n",
    "coder = SparseCoder(dictionary=V_events, transform_algorithm='omp', transform_n_nonzero_coefs=n_coefs)"
   ]
  },
  {
   "cell_type": "code",
   "execution_count": 56,
   "metadata": {},
   "outputs": [
    {
     "data": {
      "text/plain": [
       "(250, 41536)"
      ]
     },
     "execution_count": 56,
     "metadata": {},
     "output_type": "execute_result"
    }
   ],
   "source": [
    "np.transpose(data_test).shape"
   ]
  },
  {
   "cell_type": "code",
   "execution_count": 57,
   "metadata": {},
   "outputs": [
    {
     "name": "stdout",
     "output_type": "stream",
     "text": [
      "Elapsed time = 86.04s\n"
     ]
    }
   ],
   "source": [
    "start_time = time.time()\n",
    "code = coder.transform(data_test)\n",
    "elapsed_time = time.time() - start_time\n",
    "print('Elapsed time = %.2fs' % elapsed_time)"
   ]
  },
  {
   "cell_type": "code",
   "execution_count": 58,
   "metadata": {},
   "outputs": [
    {
     "data": {
      "text/plain": [
       "(41536, 700)"
      ]
     },
     "execution_count": 58,
     "metadata": {},
     "output_type": "execute_result"
    }
   ],
   "source": [
    "code.shape"
   ]
  },
  {
   "cell_type": "code",
   "execution_count": 59,
   "metadata": {},
   "outputs": [
    {
     "data": {
      "text/plain": [
       "(41536, 50)"
      ]
     },
     "execution_count": 59,
     "metadata": {},
     "output_type": "execute_result"
    }
   ],
   "source": [
    "patches_g = np.dot(code, V_gradients)\n",
    "patches_g.shape"
   ]
  },
  {
   "cell_type": "code",
   "execution_count": 60,
   "metadata": {},
   "outputs": [
    {
     "data": {
      "text/plain": [
       "(41536, 5, 5, 2)"
      ]
     },
     "execution_count": 60,
     "metadata": {},
     "output_type": "execute_result"
    }
   ],
   "source": [
    "patches_g = patches_g.reshape(patches_g.shape[0],patch_size[0],patch_size[1],2)\n",
    "patches_g.shape"
   ]
  },
  {
   "cell_type": "code",
   "execution_count": 61,
   "metadata": {},
   "outputs": [
    {
     "data": {
      "text/plain": [
       "(180, 240, 2)"
      ]
     },
     "execution_count": 61,
     "metadata": {},
     "output_type": "execute_result"
    }
   ],
   "source": [
    "reconstruction = image_extractor.reconstruct_from_patches_2d(patches_g, (img_test.shape[0],img_test.shape[1],2))\n",
    "reconstruction.shape"
   ]
  },
  {
   "cell_type": "code",
   "execution_count": 65,
   "metadata": {},
   "outputs": [
    {
     "data": {
      "image/png": "[encoded data removed]",
      "text/plain": [
       "<Figure size 432x288 with 1 Axes>"
      ]
     },
     "metadata": {
      "needs_background": "light"
     },
     "output_type": "display_data"
    }
   ],
   "source": [
    "plt.imshow(reconstruction[:,:,0])\n",
    "plt.title('Recovered gradient X')\n",
    "plt.show()"
   ]
  },
  {
   "cell_type": "code",
   "execution_count": null,
   "metadata": {},
   "outputs": [],
   "source": []
  },
  {
   "cell_type": "code",
   "execution_count": null,
   "metadata": {},
   "outputs": [],
   "source": []
  },
  {
   "cell_type": "code",
   "execution_count": null,
   "metadata": {},
   "outputs": [],
   "source": []
  },
  {
   "cell_type": "code",
   "execution_count": null,
   "metadata": {},
   "outputs": [],
   "source": []
  }
 ],
 "metadata": {
  "kernelspec": {
   "display_name": "Python 3",
   "language": "python",
   "name": "python3"
  },
  "language_info": {
   "codemirror_mode": {
    "name": "ipython",
    "version": 3
   },
   "file_extension": ".py",
   "mimetype": "text/x-python",
   "name": "python",
   "nbconvert_exporter": "python",
   "pygments_lexer": "ipython3",
   "version": "3.7.4"
  },
  "toc": {
   "base_numbering": 1,
   "nav_menu": {},
   "number_sections": true,
   "sideBar": true,
   "skip_h1_title": false,
   "title_cell": "Table of Contents",
   "title_sidebar": "Contents",
   "toc_cell": false,
   "toc_position": {},
   "toc_section_display": true,
   "toc_window_display": false
  },
  "varInspector": {
   "cols": {
    "lenName": 16,
    "lenType": 16,
    "lenVar": 40
   },
   "kernels_config": {
    "python": {
     "delete_cmd_postfix": "",
     "delete_cmd_prefix": "del ",
     "library": "var_list.py",
     "varRefreshCmd": "print(var_dic_list())"
    },
    "r": {
     "delete_cmd_postfix": ") ",
     "delete_cmd_prefix": "rm(",
     "library": "var_list.r",
     "varRefreshCmd": "cat(var_dic_list()) "
    }
   },
   "types_to_exclude": [
    "module",
    "function",
    "builtin_function_or_method",
    "instance",
    "_Feature"
   ],
   "window_display": false
  }
 },
 "nbformat": 4,
 "nbformat_minor": 2
}
